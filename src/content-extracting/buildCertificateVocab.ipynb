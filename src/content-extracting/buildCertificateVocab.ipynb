{
 "cells": [
  {
   "cell_type": "code",
   "execution_count": 31,
   "metadata": {},
   "outputs": [],
   "source": [
    "vocab = dict()"
   ]
  },
  {
   "cell_type": "code",
   "execution_count": 32,
   "metadata": {},
   "outputs": [],
   "source": [
    "def process_file(file_path):\n",
    "    f = open(file_path, \"r\", encoding=\"utf8\")\n",
    "    lines = f.readlines()\n",
    "    lines = [line.strip() for line in lines]\n",
    "    for line in lines:\n",
    "        if (\" - \" in lines):\n",
    "            lines.remove(\" - \", \"-\")\n",
    "        words = line.split(\" \")\n",
    "        for word in words:\n",
    "            if (\"\\xa0\" in word):\n",
    "                word = word.replace(\"\\xa0\", \"\")\n",
    "            #if \"(\" in word:\n",
    "            #    word = word.replace(\"(\", \"\")\n",
    "            #if \")\" in word:\n",
    "            #    word = word.replace(\")\", \"\")\n",
    "            if len(word) == 0 or word == \"-\":\n",
    "                continue\n",
    "            if word not in vocab:\n",
    "                vocab.update({word: 1})\n",
    "            else:\n",
    "                vocab.update({word: vocab[word] + 1})\n",
    "    f.close()"
   ]
  },
  {
   "cell_type": "code",
   "execution_count": 33,
   "metadata": {},
   "outputs": [],
   "source": [
    "process_file('./data/month.txt')\n",
    "process_file('./data/certificatePhrase.txt')\n",
    "process_file('./data/majorByVietnamese.txt')\n",
    "process_file('./data/universityByVietnamese.txt')\n",
    "process_file('./data/universityByEnglish.txt')\n",
    "process_file('./data/universityBySymbol.txt')\n",
    "process_file('./data/name.txt')"
   ]
  },
  {
   "cell_type": "code",
   "execution_count": 34,
   "metadata": {},
   "outputs": [],
   "source": [
    "s1 = u'ÀÁÂÃÈÉÊÌÍÒÓÔÕÙÚÝàáâãèéêìíòóôõùúýĂăĐđĨĩŨũƠơƯưẠạẢảẤấẦầẨẩẪẫẬậẮắẰằẲẳẴẵẶặẸẹẺẻẼẽẾếỀềỂểỄễỆệỈỉỊịỌọỎỏỐốỒồỔổỖỗỘộỚớỜờỞởỠỡỢợỤụỦủỨứỪừỬửỮữỰựỲỳỴỵỶỷỸỹ'\n",
    "s0 = u'AAAAEEEIIOOOOUUYaaaaeeeiioooouuyAaDdIiUuOoUuAaAaAaAaAaAaAaAaAaAaAaAaEeEeEeEeEeEeEeEeIiIiOoOoOoOoOoOoOoOoOoOoOoOoUuUuUuUuUuUuUuYyYyYyYy'\n",
    "def remove_accents(input_str):\n",
    "\ts = ''\n",
    "\tfor c in input_str:\n",
    "\t\tif c in s1:\n",
    "\t\t\ts += s0[s1.index(c)]\n",
    "\t\telse:\n",
    "\t\t\ts += c\n",
    "\treturn s"
   ]
  },
  {
   "cell_type": "code",
   "execution_count": 35,
   "metadata": {},
   "outputs": [],
   "source": [
    "f = open('./data/region.txt', \"r\", encoding=\"utf-8\")\n",
    "lines = f.readlines()\n",
    "temp = []\n",
    "for line in lines:\n",
    "    if '\\n' in line:\n",
    "        temp.append(line[:-1])\n",
    "    else:\n",
    "        temp.append(line)\n",
    "lines = temp\n",
    "for i in range(len(lines)):\n",
    "    if lines[i] not in vocab:\n",
    "        vocab.update({lines[i]: 1})\n",
    "    else:\n",
    "        vocab.update({lines[i]: vocab[lines[i]] + 1})\n",
    "\n",
    "modified_lines = lines\n",
    "modified_lines = [remove_accents(line) for line in modified_lines]\n",
    "\n",
    "for i in range(len(lines)):\n",
    "\n",
    "\n",
    "    if modified_lines[i] not in vocab:\n",
    "        vocab.update({modified_lines[i]: 1})\n",
    "    else:\n",
    "        vocab.update({modified_lines[i]: vocab[modified_lines[i]] + 1})\n"
   ]
  },
  {
   "cell_type": "code",
   "execution_count": null,
   "metadata": {},
   "outputs": [],
   "source": [
    "image_size_list = [\"2x3\",\"3x4\",\"4x6\",\"6x9\",\"9x12\"]"
   ]
  },
  {
   "cell_type": "code",
   "execution_count": 36,
   "metadata": {},
   "outputs": [],
   "source": [
    "words = list(vocab.keys()) + image_size_list\n",
    "\n",
    "with open('./data/vocab.txt', 'w', encoding='utf8') as fp:\n",
    "    for item in words:\n",
    "        fp.write(\"%s\\n\" % item)"
   ]
  }
 ],
 "metadata": {
  "interpreter": {
   "hash": "11938c6bc6919ae2720b4d5011047913343b08a43b18698fd82dedb0d4417594"
  },
  "kernelspec": {
   "display_name": "Python 3.9.7 64-bit",
   "language": "python",
   "name": "python3"
  },
  "language_info": {
   "codemirror_mode": {
    "name": "ipython",
    "version": 3
   },
   "file_extension": ".py",
   "mimetype": "text/x-python",
   "name": "python",
   "nbconvert_exporter": "python",
   "pygments_lexer": "ipython3",
   "version": "3.9.7"
  },
  "orig_nbformat": 4
 },
 "nbformat": 4,
 "nbformat_minor": 2
}

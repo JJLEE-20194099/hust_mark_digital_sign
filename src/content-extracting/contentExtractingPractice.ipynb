{
 "cells": [
  {
   "cell_type": "code",
   "execution_count": 1,
   "metadata": {},
   "outputs": [],
   "source": [
    "import easyocr\n",
    "from pdf2image import convert_from_path\n",
    "import numpy as np\n",
    "import re\n",
    "from underthesea import word_tokenize, pos_tag"
   ]
  },
  {
   "cell_type": "code",
   "execution_count": 4,
   "metadata": {},
   "outputs": [
    {
     "name": "stderr",
     "output_type": "stream",
     "text": [
      "CUDA not available - defaulting to CPU. Note: This module is much faster with a GPU.\n"
     ]
    }
   ],
   "source": [
    "reader = easyocr.Reader(['vi', 'en'])"
   ]
  },
  {
   "cell_type": "code",
   "execution_count": 39,
   "metadata": {},
   "outputs": [],
   "source": [
    "result = reader.readtext('./images/test1.png', detail=True)"
   ]
  },
  {
   "cell_type": "code",
   "execution_count": 40,
   "metadata": {},
   "outputs": [
    {
     "data": {
      "text/plain": [
       "[([[75, 43], [329, 43], [329, 59], [75, 59]],\n",
       "  'SOCIALIST REPUBLIC OF VIETNAM',\n",
       "  0.7697532548557056),\n",
       " ([[468, 40], [573, 40], [573, 60], [468, 60]],\n",
       "  'CỌNG HÒA XÃ',\n",
       "  0.3857835571551236),\n",
       " ([[569, 37], [609, 37], [609, 73], [569, 73]], '#P!', 0.1792484630209864),\n",
       " ([[605, 41], [767, 41], [767, 59], [605, 59]],\n",
       "  'CHU NGHIA VIẸT NAM',\n",
       "  0.6244574226552123),\n",
       " ([[79, 57], [173, 57], [173, 73], [79, 73]],\n",
       "  'Independence',\n",
       "  0.9995456071953999),\n",
       " ([[181, 57], [243, 57], [243, 71], [181, 71]], 'Frccdom', 0.6449468996795203),\n",
       " ([[251, 53], [326, 53], [326, 77], [251, 77]],\n",
       "  'Happiness',\n",
       "  0.9880533548733477),\n",
       " ([[521, 55], [575, 55], [575, 73], [521, 73]], 'Độc lập', 0.8352117044274064),\n",
       " ([[635, 55], [711, 55], [711, 73], [635, 73]],\n",
       "  'Hạnh phúc',\n",
       "  0.8274330267076015),\n",
       " ([[153, 101], [249, 101], [249, 117], [153, 117]],\n",
       "  'THE RECTOR',\n",
       "  0.730179286517536),\n",
       " ([[567, 99], [673, 99], [673, 117], [567, 117]],\n",
       "  'HIẸU TRƯỞNG',\n",
       "  0.45255177509311334),\n",
       " ([[51, 121], [111, 121], [111, 137], [51, 137]],\n",
       "  'OF VIET',\n",
       "  0.7267053782852718),\n",
       " ([[119, 121], [348, 121], [348, 137], [119, 137]],\n",
       "  'HUNG INDUSTRIAL UNIVERSITY',\n",
       "  0.7807254914129086),\n",
       " ([[457, 117], [731, 117], [731, 137], [457, 137]],\n",
       "  '[RƯỜNG DẠl HỌC CÔNG NGHIẸP VIẸT',\n",
       "  0.2624179692705655),\n",
       " ([[737, 119], [785, 119], [785, 135], [737, 135]],\n",
       "  'HUNG',\n",
       "  0.8452756106635455),\n",
       " ([[143, 139], [257, 139], [257, 159], [143, 159]],\n",
       "  'has conferred',\n",
       "  0.9209654507428913),\n",
       " ([[604, 138], [638, 138], [638, 162], [604, 162]], 'câp', 0.4896814244102809),\n",
       " ([[58, 165], [344, 165], [344, 190], [58, 190]],\n",
       "  'THE DEGREE OF ENGINEER',\n",
       "  0.9825292324300572),\n",
       " ([[556, 164], [686, 164], [686, 190], [556, 190]],\n",
       "  'BẢNG KỸ SƯ',\n",
       "  0.5176347936218688),\n",
       " ([[55, 259], [79, 259], [79, 271], [55, 271]], 'pon', 0.9898064267316534),\n",
       " ([[45, 285], [115, 285], [115, 297], [45, 297]],\n",
       "  'Date of birth:',\n",
       "  0.5363264368380519),\n",
       " ([[474, 286], [516, 286], [516, 294], [474, 294]],\n",
       "  'cav sinh',\n",
       "  0.13688636534532775),\n",
       " ([[44, 308], [151, 308], [151, 326], [44, 326]],\n",
       "  'Degree classification:',\n",
       "  0.774179854452241),\n",
       " ([[465, 308], [551, 308], [551, 322], [465, 322]],\n",
       "  'Hạng tỏt nehicp:',\n",
       "  0.2132122864507382),\n",
       " ([[574, 339], [664, 339], [664, 371], [574, 371]],\n",
       "  '\"fas',\n",
       "  0.004562226124107838),\n",
       " ([[587, 373], [663, 373], [663, 389], [587, 389]],\n",
       "  'Hà Nội, ngày',\n",
       "  0.6898594717320309),\n",
       " ([[734, 378], [760, 378], [760, 384], [734, 384]], 'on', 0.16549376287442577),\n",
       " ([[139, 385], [267, 385], [267, 399], [139, 399]],\n",
       "  'Given under the seal of ',\n",
       "  0.7438673330420816),\n",
       " ([[113, 398], [291, 398], [291, 415], [113, 415]],\n",
       "  'Viet - Hung Industrial University',\n",
       "  0.7255587765912921),\n",
       " ([[629, 393], [727, 393], [727, 409], [629, 409]],\n",
       "  'HIẸU TRƯONG',\n",
       "  0.9109779817760297),\n",
       " ([[461, 517], [507, 517], [507, 533], [461, 533]],\n",
       "  'S6 hiệu:',\n",
       "  0.17794732557620258),\n",
       " ([[45, 541], [69, 541], [69, 555], [45, 555]], 'Reg.', 0.7877740263938904),\n",
       " ([[463, 537], [607, 537], [607, 555], [463, 555]],\n",
       "  'Só váo sỏ guc cip vẵn bẳng:',\n",
       "  0.10279236244147887),\n",
       " ([[619.5143570688214, 350.12584272387846],\n",
       "   [652.9893591353649, 357.85450600950514],\n",
       "   [649.4856429311786, 369.87415727612154],\n",
       "   [617.0106408646351, 363.14549399049486]],\n",
       "  'Nag7',\n",
       "  0.044668130576610565),\n",
       " ([[681.4700010599968, 373.1520016959949],\n",
       "   [714.9647638212377, 377.7368825942079],\n",
       "   [713.5299989400032, 390.8479983040051],\n",
       "   [680.0352361787623, 387.2631174057921]],\n",
       "  'thang',\n",
       "  0.9235061284690721),\n",
       " ([[71.3902892391503, 539.2073760108954],\n",
       "   [91.97280621468536, 543.7683794726939],\n",
       "   [89.6097107608497, 553.7926239891046],\n",
       "   [69.02719378531464, 549.2316205273061]],\n",
       "  'o.',\n",
       "  0.39428330165473824)]"
      ]
     },
     "execution_count": 40,
     "metadata": {},
     "output_type": "execute_result"
    }
   ],
   "source": [
    "result"
   ]
  },
  {
   "cell_type": "code",
   "execution_count": 41,
   "metadata": {},
   "outputs": [],
   "source": [
    "fields = []\n",
    "coors = []\n",
    "\n",
    "for r in result:\n",
    "    txt = r[1].strip()\n",
    "    if (txt.isnumeric()):\n",
    "        continue\n",
    "    txt = re.sub(r\"['#@;:<>{}`+=~|.!?,]\", \"\", txt)\n",
    "    if (len(txt) == 0):\n",
    "        continue\n",
    "    if (r[2] < 0.3):\n",
    "        continue\n",
    "    coors.append(r[0])\n",
    "    fields.append(txt)"
   ]
  },
  {
   "cell_type": "code",
   "execution_count": 42,
   "metadata": {},
   "outputs": [],
   "source": [
    "f = open('./data/certificatePhrase.txt', 'r', encoding='utf-8')\n",
    "lines = f.readlines()\n",
    "phrases = []\n",
    "for line in lines:\n",
    "    if '\\n' in line:\n",
    "        phrases.append(line[:-1])\n",
    "    else:\n",
    "        phrases.append(line)"
   ]
  },
  {
   "cell_type": "code",
   "execution_count": 43,
   "metadata": {},
   "outputs": [],
   "source": [
    "f = open('./data/vocab.txt', 'r', encoding='utf-8')\n",
    "lines = f.readlines()\n",
    "vocabs = []\n",
    "for line in lines:\n",
    "    if '\\n' in line:\n",
    "        vocabs.append(line[:-1])\n",
    "    else:\n",
    "        vocabs.append(line)"
   ]
  },
  {
   "cell_type": "code",
   "execution_count": 44,
   "metadata": {},
   "outputs": [],
   "source": [
    "def find_similar(str1, str2):\n",
    "    n = len(str1)\n",
    "    cnt = 0\n",
    "    for i in range(n):\n",
    "        if str1[i] in str2:\n",
    "            cnt += 1\n",
    "    return cnt/n, cnt/len(str2)\n",
    "    "
   ]
  },
  {
   "cell_type": "code",
   "execution_count": 45,
   "metadata": {},
   "outputs": [],
   "source": [
    "s1 = u'ÀÁÂÃÈÉÊÌÍÒÓÔÕÙÚÝàáâãèéêìíòóôõùúýĂăĐđĨĩŨũƠơƯưẠạẢảẤấẦầẨẩẪẫẬậẮắẰằẲẳẴẵẶặẸẹẺẻẼẽẾếỀềỂểỄễỆệỈỉỊịỌọỎỏỐốỒồỔổỖỗỘộỚớỜờỞởỠỡỢợỤụỦủỨứỪừỬửỮữỰựỲỳỴỵỶỷỸỹ'\n",
    "s0 = u'AAAAEEEIIOOOOUUYaaaaeeeiioooouuyAaDdIiUuOoUuAaAaAaAaAaAaAaAaAaAaAaAaEeEeEeEeEeEeEeEeIiIiOoOoOoOoOoOoOoOoOoOoOoOoUuUuUuUuUuUuUuYyYyYyYy'\n",
    "def remove_accents(input_str):\n",
    "\ts = ''\n",
    "\tfor c in input_str:\n",
    "\t\tif c in s1:\n",
    "\t\t\ts += s0[s1.index(c)]\n",
    "\t\telse:\n",
    "\t\t\ts += c\n",
    "\treturn s"
   ]
  },
  {
   "cell_type": "code",
   "execution_count": 46,
   "metadata": {},
   "outputs": [],
   "source": [
    "def is_size_of_image(str):\n",
    "    return str[0].isnumeric() and str[2].isnumeric() and str[1] == 'x'"
   ]
  },
  {
   "cell_type": "code",
   "execution_count": 47,
   "metadata": {},
   "outputs": [],
   "source": [
    "def preprocess_word(str):\n",
    "    #str = remove_accents(str)\n",
    "    if (str.isnumeric()):\n",
    "        return str\n",
    "    if (is_size_of_image(str)):\n",
    "        return str\n",
    "    chatacters = [c for c in str if c.isalpha()]\n",
    "    str = ''.join(chatacters)\n",
    "    str = str.lower()\n",
    "    return str"
   ]
  },
  {
   "cell_type": "code",
   "execution_count": 48,
   "metadata": {},
   "outputs": [],
   "source": [
    "def find_similar(str1, str2):\n",
    "    str1 = preprocess_word(str1)\n",
    "    str2 = preprocess_word(str2)\n",
    "    if str1 == str2:\n",
    "        return 1, 1\n",
    "    n = len(str1)\n",
    "    if len(str1) > len(str2):\n",
    "        return 0, 0\n",
    "    if (n == 0 or len(str2) == 0):\n",
    "        return 0, 0\n",
    "    cnt = 0\n",
    "    for i in range(n):\n",
    "        if str1[i] == str2[i]:\n",
    "            cnt += 1\n",
    "\n",
    "    return cnt/n, cnt/len(str2)\n",
    "    "
   ]
  },
  {
   "cell_type": "code",
   "execution_count": 49,
   "metadata": {},
   "outputs": [],
   "source": [
    "def check_snake_case(str):\n",
    "    if (len(str) == 0):\n",
    "        return True\n",
    "    if (str[0].isupper()):\n",
    "        if (len(str) == 1):\n",
    "            return True\n",
    "        else:\n",
    "            if(str[1].islower()):\n",
    "                return True\n",
    "    \n",
    "    return False"
   ]
  },
  {
   "cell_type": "code",
   "execution_count": 50,
   "metadata": {},
   "outputs": [],
   "source": [
    "def convert_snake_case(str):\n",
    "    if (len(str) == 0):\n",
    "        return str\n",
    "    res = []\n",
    "    res.append(str[0].upper())\n",
    "    for i in range(1, len(str)):\n",
    "        res.append(str[i].lower())\n",
    "\n",
    "    return ''.join(res)"
   ]
  },
  {
   "cell_type": "code",
   "execution_count": 51,
   "metadata": {},
   "outputs": [],
   "source": [
    "def check_word(str):\n",
    "    sim_list = []\n",
    "    for vocab in vocabs:\n",
    "        sim1, sim2 = find_similar(str, vocab)\n",
    "        sim_list.append((vocab, sim1, sim2))\n",
    "    \n",
    "    sim_list.sort(key = lambda x: (x[1], x[2]), reverse=True)\n",
    "    if (str.isupper()):\n",
    "        return sim_list[0][0].upper()\n",
    "    if(str.islower()):\n",
    "        return sim_list[0][0].lower()\n",
    "    if (check_snake_case(str)):\n",
    "        return convert_snake_case(sim_list[0][0])\n",
    "    if sim_list[0][1] < 0.8:\n",
    "        return \"\"\n",
    "    return sim_list[0][0]"
   ]
  },
  {
   "cell_type": "code",
   "execution_count": 52,
   "metadata": {},
   "outputs": [
    {
     "data": {
      "text/plain": [
       "(0.0, 0.0)"
      ]
     },
     "execution_count": 52,
     "metadata": {},
     "output_type": "execute_result"
    }
   ],
   "source": [
    "find_similar(\"5\", '1')"
   ]
  },
  {
   "cell_type": "code",
   "execution_count": 53,
   "metadata": {},
   "outputs": [],
   "source": [
    "def tokenize(str):\n",
    "    return word_tokenize(str)"
   ]
  },
  {
   "cell_type": "code",
   "execution_count": 54,
   "metadata": {},
   "outputs": [],
   "source": [
    "init_fields = []\n",
    "final_fields = []\n",
    "final_coors = []\n",
    "\n",
    "for i in range(len(fields)):\n",
    "    field = fields[i]\n",
    "    if len(field) < 2:\n",
    "        continue\n",
    "    words = field.split(\" \")\n",
    "    words = [check_word(word) for word in words]\n",
    "    check = True\n",
    "    for w in words:\n",
    "        if (w != ''):\n",
    "            check = False\n",
    "            break\n",
    "    if (check == False):\n",
    "        init_fields.append(field)\n",
    "        final_fields.append(' '.join(words))\n",
    "        final_coors.append(coors[i])\n"
   ]
  },
  {
   "cell_type": "code",
   "execution_count": 55,
   "metadata": {},
   "outputs": [
    {
     "name": "stdout",
     "output_type": "stream",
     "text": [
      "SOCIALIST REPUBLIC OF VIETNAM - SOCIALIST REPUBLIC OF VIETNAM\n",
      "CỌNG HÒA XÃ - CỘNG HÒA XÃ\n",
      "CHU NGHIA VIẸT NAM - CHU NGHIA LO VIỆT NAM\n",
      "Independence - Independence\n",
      "Frccdom - Freedom\n",
      "Happiness - Happiness\n",
      "Độc lập - Độc lập\n",
      "Hạnh phúc - Hạnh phúc\n",
      "THE RECTOR - THE RECTOR\n",
      "HIẸU TRƯỞNG - HIỆU TRƯỞNG\n",
      "OF VIET - OF VIETNAM\n",
      "HUNG INDUSTRIAL UNIVERSITY - HUNG INDUSTRIAL UNIVERSITY\n",
      "HUNG - HUNG\n",
      "has conferred - has conferred\n",
      "câp - cấp\n",
      "THE DEGREE OF ENGINEER - THE DEGREE OF ENGINEERING\n",
      "BẢNG KỸ SƯ - BẰNG KỸ SƯ\n",
      "pon - ponl\n",
      "Date of birth - Date of birth\n",
      "Degree classification - Degree classification\n",
      "Hà Nội ngày - Hà Nội ngày\n",
      "Given under the seal of - Level independence the health of\n",
      "Viet - Hung Industrial University - Vietnam & Hung Industrial University\n",
      "HIẸU TRƯONG - HIỆU TRƯỞNG\n",
      "Reg - Reg.no\n",
      "thang - thang\n",
      "o - of\n"
     ]
    }
   ],
   "source": [
    "for i in range(len(final_fields)):\n",
    "    print(init_fields[i], \"-\", final_fields[i])"
   ]
  },
  {
   "cell_type": "code",
   "execution_count": 56,
   "metadata": {},
   "outputs": [
    {
     "data": {
      "text/plain": [
       "'NGHIA LO'"
      ]
     },
     "execution_count": 56,
     "metadata": {},
     "output_type": "execute_result"
    }
   ],
   "source": [
    "check_word(\"NGHIA\")"
   ]
  }
 ],
 "metadata": {
  "interpreter": {
   "hash": "11938c6bc6919ae2720b4d5011047913343b08a43b18698fd82dedb0d4417594"
  },
  "kernelspec": {
   "display_name": "Python 3.9.7 64-bit",
   "language": "python",
   "name": "python3"
  },
  "language_info": {
   "codemirror_mode": {
    "name": "ipython",
    "version": 3
   },
   "file_extension": ".py",
   "mimetype": "text/x-python",
   "name": "python",
   "nbconvert_exporter": "python",
   "pygments_lexer": "ipython3",
   "version": "3.9.7"
  },
  "orig_nbformat": 4
 },
 "nbformat": 4,
 "nbformat_minor": 2
}

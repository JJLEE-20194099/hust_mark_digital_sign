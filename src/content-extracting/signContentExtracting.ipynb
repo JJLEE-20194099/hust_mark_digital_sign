{
 "cells": [
  {
   "cell_type": "code",
   "execution_count": 1,
   "metadata": {},
   "outputs": [],
   "source": [
    "import easyocr"
   ]
  },
  {
   "cell_type": "code",
   "execution_count": 2,
   "metadata": {},
   "outputs": [
    {
     "name": "stderr",
     "output_type": "stream",
     "text": [
      "CUDA not available - defaulting to CPU. Note: This module is much faster with a GPU.\n"
     ]
    }
   ],
   "source": [
    "reader = easyocr.Reader(['vi', 'en'])"
   ]
  },
  {
   "cell_type": "code",
   "execution_count": 6,
   "metadata": {},
   "outputs": [],
   "source": [
    "result = reader.readtext('./images/images_13_.jpg', detail=False)"
   ]
  },
  {
   "cell_type": "code",
   "execution_count": 15,
   "metadata": {},
   "outputs": [],
   "source": [
    "signTitlePosition = ['Đơn vị', 'Cán bộ giảng dạy', 'Cán bộ vào bảng điểm', 'Bộ môn phụ trách học phần']"
   ]
  },
  {
   "cell_type": "code",
   "execution_count": 16,
   "metadata": {},
   "outputs": [
    {
     "name": "stdout",
     "output_type": "stream",
     "text": [
      "Cán bộ giảng dạy\n"
     ]
    }
   ],
   "source": [
    "for title in signTitlePosition:\n",
    "    if(title in result):\n",
    "        print(title)"
   ]
  },
  {
   "cell_type": "code",
   "execution_count": 17,
   "metadata": {},
   "outputs": [
    {
     "data": {
      "text/plain": [
       "['Tach',\n",
       " '374',\n",
       " '20172943',\n",
       " 'Nguyễn Thị Nguyệt Ánh',\n",
       " 'nghệ thông tin 11-K62',\n",
       " '7.5',\n",
       " 'Ánh',\n",
       " 'Tach',\n",
       " '375',\n",
       " '20172943',\n",
       " 'Nguyễn Thị Nguyệt Ánh',\n",
       " 'nghệ',\n",
       " 'tin 11-K62',\n",
       " '7.5',\n",
       " 'Ánh',\n",
       " 'Tạch',\n",
       " '376',\n",
       " '20172943',\n",
       " 'Nguyễn Thị Nguyệt Ánh',\n",
       " 'nghệ thông tin 11-K62',\n",
       " '7.5',\n",
       " 'Ánh',\n",
       " 'Tach',\n",
       " '377',\n",
       " '20172943',\n",
       " 'Nguyễn Thị Nguyệt Ánh',\n",
       " 'nghệ thông tin 11-K62',\n",
       " '7.5',\n",
       " 'Ánh',\n",
       " 'Tach',\n",
       " '378',\n",
       " '20172943',\n",
       " 'Nguyễn Ihị Nguyệt Ánh',\n",
       " 'nghệ',\n",
       " 'tin 11-K62',\n",
       " '7.5',\n",
       " 'Ánh',\n",
       " 'Tạch',\n",
       " '379',\n",
       " '20172943',\n",
       " 'Nguyễn Ihị Nguyệt Ánh',\n",
       " 'nghệ',\n",
       " 'tin 11-K62',\n",
       " '7.5',\n",
       " 'Ánh',\n",
       " 'Tạch',\n",
       " '380',\n",
       " '20172943',\n",
       " 'Nguyễn Thị Nguyệt Ánh',\n",
       " 'nghệ thông tin 11-K62',\n",
       " '7.5',\n",
       " 'Ánh',\n",
       " 'Tach',\n",
       " 'Ngày in: 20/5/2022',\n",
       " 'Ngày thi: 20/5/2022',\n",
       " 'Hạn cuối nộp điểm sau khi kết thúc học',\n",
       " 'ngày',\n",
       " 'Đơn vị quản lý đào tao',\n",
       " 'Cán bộ giảng dạy',\n",
       " 'Cán bộ vào',\n",
       " 'điểm',\n",
       " 'Bộ môn phụ trách',\n",
       " 'phần',\n",
       " '(nếu có)',\n",
       " '\"nấ',\n",
       " '14 / 14',\n",
       " 'Trường',\n",
       " 'Công',\n",
       " 'thông',\n",
       " 'Giảng',\n",
       " 'Công',\n",
       " \"thông '\",\n",
       " 'Công',\n",
       " 'thông',\n",
       " 'Công',\n",
       " 'Công ',\n",
       " 'thông',\n",
       " 'Công',\n",
       " 'thông',\n",
       " 'Công',\n",
       " 'Công',\n",
       " 'Công',\n",
       " \"thông '\",\n",
       " 'Công',\n",
       " 'Công',\n",
       " 'Công',\n",
       " \"thông '\",\n",
       " 'Công',\n",
       " 'Công',\n",
       " 'Công',\n",
       " 'thông',\n",
       " 'Công',\n",
       " 'thông ',\n",
       " 'Công',\n",
       " 'phần',\n",
       " 'bảng',\n",
       " 'học',\n",
       " 'Ia*%\"',\n",
       " 'Hkono',\n",
       " 'Hko']"
      ]
     },
     "execution_count": 17,
     "metadata": {},
     "output_type": "execute_result"
    }
   ],
   "source": [
    "result[-100:]"
   ]
  }
 ],
 "metadata": {
  "interpreter": {
   "hash": "11938c6bc6919ae2720b4d5011047913343b08a43b18698fd82dedb0d4417594"
  },
  "kernelspec": {
   "display_name": "Python 3.9.7 64-bit",
   "language": "python",
   "name": "python3"
  },
  "language_info": {
   "codemirror_mode": {
    "name": "ipython",
    "version": 3
   },
   "file_extension": ".py",
   "mimetype": "text/x-python",
   "name": "python",
   "nbconvert_exporter": "python",
   "pygments_lexer": "ipython3",
   "version": "3.9.7"
  },
  "orig_nbformat": 4
 },
 "nbformat": 4,
 "nbformat_minor": 2
}

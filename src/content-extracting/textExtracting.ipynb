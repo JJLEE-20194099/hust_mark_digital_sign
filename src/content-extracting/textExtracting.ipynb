{
 "cells": [
  {
   "cell_type": "code",
   "execution_count": 2,
   "metadata": {},
   "outputs": [],
   "source": [
    "import easyocr"
   ]
  },
  {
   "cell_type": "code",
   "execution_count": 3,
   "metadata": {},
   "outputs": [
    {
     "name": "stderr",
     "output_type": "stream",
     "text": [
      "CUDA not available - defaulting to CPU. Note: This module is much faster with a GPU.\n",
      "Downloading detection model, please wait. This may take several minutes depending upon your network connection.\n"
     ]
    },
    {
     "name": "stdout",
     "output_type": "stream",
     "text": [
      "Progress: |██████████████████████████████████████████████████| 100.0% Complete"
     ]
    },
    {
     "name": "stderr",
     "output_type": "stream",
     "text": [
      "Downloading recognition model, please wait. This may take several minutes depending upon your network connection.\n"
     ]
    },
    {
     "name": "stdout",
     "output_type": "stream",
     "text": [
      "Progress: |██████████████████████████████████████████████████| 100.0% Complete"
     ]
    }
   ],
   "source": [
    "reader = easyocr.Reader(['ch_tra', 'en'])"
   ]
  },
  {
   "cell_type": "code",
   "execution_count": 5,
   "metadata": {},
   "outputs": [],
   "source": [
    "result = reader.readtext('./images/chinese_tra.jpg')"
   ]
  },
  {
   "cell_type": "code",
   "execution_count": 6,
   "metadata": {},
   "outputs": [
    {
     "data": {
      "text/plain": [
       "[([[224, 55], [461, 55], [461, 122], [224, 122]], '高鐵左營站', 0.8518757067794356),\n",
       " ([[228, 107], [317, 107], [317, 147], [228, 147]], 'HSR', 0.9988005365110807),\n",
       " ([[330, 112], [465, 112], [465, 152], [330, 152]],\n",
       "  'Station',\n",
       "  0.9991218371098758),\n",
       " ([[154, 151], [471, 151], [471, 225], [154, 225]],\n",
       "  '汽車臨停接送區',\n",
       "  0.9990909341946339),\n",
       " ([[163, 209], [229, 209], [229, 245], [163, 245]], 'Car', 0.9997450058214684),\n",
       " ([[240, 210], [387, 210], [387, 249], [240, 249]],\n",
       "  'Kiss and',\n",
       "  0.8729257670233185),\n",
       " ([[397, 215], [473, 215], [473, 251], [397, 251]],\n",
       "  'Ride',\n",
       "  0.8487421707375433)]"
      ]
     },
     "execution_count": 6,
     "metadata": {},
     "output_type": "execute_result"
    }
   ],
   "source": [
    "result"
   ]
  }
 ],
 "metadata": {
  "interpreter": {
   "hash": "11938c6bc6919ae2720b4d5011047913343b08a43b18698fd82dedb0d4417594"
  },
  "kernelspec": {
   "display_name": "Python 3.9.7 64-bit",
   "language": "python",
   "name": "python3"
  },
  "language_info": {
   "codemirror_mode": {
    "name": "ipython",
    "version": 3
   },
   "file_extension": ".py",
   "mimetype": "text/x-python",
   "name": "python",
   "nbconvert_exporter": "python",
   "pygments_lexer": "ipython3",
   "version": "3.9.7"
  },
  "orig_nbformat": 4
 },
 "nbformat": 4,
 "nbformat_minor": 2
}

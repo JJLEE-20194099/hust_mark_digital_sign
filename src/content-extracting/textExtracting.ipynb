{
 "cells": [
  {
   "cell_type": "code",
   "execution_count": 7,
   "metadata": {},
   "outputs": [],
   "source": [
    "import easyocr\n",
    "import cv2"
   ]
  },
  {
   "cell_type": "code",
   "execution_count": 3,
   "metadata": {},
   "outputs": [
    {
     "name": "stderr",
     "output_type": "stream",
     "text": [
      "CUDA not available - defaulting to CPU. Note: This module is much faster with a GPU.\n",
      "Downloading detection model, please wait. This may take several minutes depending upon your network connection.\n"
     ]
    },
    {
     "name": "stdout",
     "output_type": "stream",
     "text": [
      "Progress: |██████████████████████████████████████████████████| 100.0% Complete"
     ]
    },
    {
     "name": "stderr",
     "output_type": "stream",
     "text": [
      "Downloading recognition model, please wait. This may take several minutes depending upon your network connection.\n"
     ]
    },
    {
     "name": "stdout",
     "output_type": "stream",
     "text": [
      "Progress: |██████████████████████████████████████████████████| 100.0% Complete"
     ]
    }
   ],
   "source": [
    "reader = easyocr.Reader(['ch_tra', 'en'])"
   ]
  },
  {
   "cell_type": "code",
   "execution_count": 11,
   "metadata": {},
   "outputs": [],
   "source": [
    "result = reader.readtext('./images/chinese_tra.jpg', detail=0)"
   ]
  },
  {
   "cell_type": "code",
   "execution_count": 12,
   "metadata": {},
   "outputs": [
    {
     "data": {
      "text/plain": [
       "['高鐵左營站', 'HSR', 'Station', '汽車臨停接送區', 'Car', 'Kiss and', 'Ride']"
      ]
     },
     "execution_count": 12,
     "metadata": {},
     "output_type": "execute_result"
    }
   ],
   "source": [
    "result"
   ]
  },
  {
   "cell_type": "code",
   "execution_count": 15,
   "metadata": {},
   "outputs": [],
   "source": [
    "result = reader.readtext('./images/paragraph.png', paragraph=True)"
   ]
  },
  {
   "cell_type": "code",
   "execution_count": 16,
   "metadata": {},
   "outputs": [
    {
     "data": {
      "text/plain": [
       "[[[[39, 14], [188, 14], [188, 39], [39, 39]], 'paragraph=False'],\n",
       " [[[257, 10], [404, 10], [404, 38], [257, 38]], 'paragraph=True'],\n",
       " [[[27, 133], [113, 133], [113, 193], [27, 193]], '乖TK 甲7 BASRURKAR 瓜AR|T'],\n",
       " [[[163, 137], [205, 137], [205, 163], [163, 163]], 'SPEED LlilT'],\n",
       " [[[257, 132], [339, 132], [339, 193], [257, 193]], '乖T叩 Td元 BHSRURKAR 川AN'],\n",
       " [[[391, 137], [435, 137], [435, 163], [391, 163]], 'SPEED| LlilT'],\n",
       " [[[31, 275], [207, 275], [207, 347], [31, 347]],\n",
       "  \"50' 40 7+1735+ PEED 刁 L|T EASRURKAR' MARKET\"],\n",
       " [[[261, 273], [421, 273], [421, 345], [261, 345]],\n",
       "  \"50 40' 1!_1=,!_;! p BASRURKAR MARKET SPEED LIMT\"]]"
      ]
     },
     "execution_count": 16,
     "metadata": {},
     "output_type": "execute_result"
    }
   ],
   "source": [
    "result"
   ]
  }
 ],
 "metadata": {
  "interpreter": {
   "hash": "11938c6bc6919ae2720b4d5011047913343b08a43b18698fd82dedb0d4417594"
  },
  "kernelspec": {
   "display_name": "Python 3.9.7 64-bit",
   "language": "python",
   "name": "python3"
  },
  "language_info": {
   "codemirror_mode": {
    "name": "ipython",
    "version": 3
   },
   "file_extension": ".py",
   "mimetype": "text/x-python",
   "name": "python",
   "nbconvert_exporter": "python",
   "pygments_lexer": "ipython3",
   "version": "3.9.7"
  },
  "orig_nbformat": 4
 },
 "nbformat": 4,
 "nbformat_minor": 2
}
